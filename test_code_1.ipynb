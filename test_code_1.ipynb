{
  "nbformat": 4,
  "nbformat_minor": 0,
  "metadata": {
    "colab": {
      "provenance": [],
      "mount_file_id": "1viecBpuqBFVKRUdwpYv60ynVYP6ruEJS",
      "authorship_tag": "ABX9TyOi3/5BVx7ZesRon0cIJKZM",
      "include_colab_link": true
    },
    "kernelspec": {
      "name": "python3",
      "display_name": "Python 3"
    },
    "language_info": {
      "name": "python"
    }
  },
  "cells": [
    {
      "cell_type": "markdown",
      "metadata": {
        "id": "view-in-github",
        "colab_type": "text"
      },
      "source": [
        "<a href=\"https://colab.research.google.com/github/YuliaYarinich/Shitcode/blob/main/test_code_1.ipynb\" target=\"_parent\"><img src=\"https://colab.research.google.com/assets/colab-badge.svg\" alt=\"Open In Colab\"/></a>"
      ]
    },
    {
      "cell_type": "markdown",
      "source": [
        "Import and analyse bean and pea production data"
      ],
      "metadata": {
        "id": "1cfwB9ZTO8IV"
      }
    },
    {
      "cell_type": "markdown",
      "source": [],
      "metadata": {
        "id": "qBUWjLEHPClQ"
      }
    },
    {
      "cell_type": "code",
      "execution_count": 1,
      "metadata": {
        "id": "ITvudTVoOrWb"
      },
      "outputs": [],
      "source": [
        "import numpy as np\n",
        "import pandas as pd\n",
        "import xarray as xr\n",
        "import matplotlib.pyplot as plt\n",
        "from matplotlib.colors import LinearSegmentedColormap\n",
        "import matplotlib.colors as colors"
      ]
    },
    {
      "cell_type": "markdown",
      "source": [
        "Cartopy may not be installed already\n",
        "To install uncommment the !pip\n",
        "If the same problem exists for any other library you can install it with the same command"
      ],
      "metadata": {
        "id": "LSBUXs6rQlNy"
      }
    },
    {
      "cell_type": "code",
      "source": [
        "!pip install cartopy\n",
        "from cartopy.io.shapereader import Reader\n",
        "from cartopy.feature import ShapelyFeature\n",
        "import cartopy.crs as ccrs\n",
        "import cartopy.feature as cfeature"
      ],
      "metadata": {
        "id": "ObQK-aeUQQzS"
      },
      "execution_count": null,
      "outputs": []
    },
    {
      "cell_type": "markdown",
      "source": [
        "Test drawing countries with borders"
      ],
      "metadata": {
        "id": "QO7do42pB5zk"
      }
    },
    {
      "cell_type": "code",
      "source": [
        "plt.figure(dpi = 256, figsize = (8,6))\n",
        "ax = plt.axes(projection=ccrs.PlateCarree())\n",
        "gr=ax.gridlines(crs=ccrs.PlateCarree(), draw_labels=True, dms=False, x_inline=False,\n",
        "                  linewidth=0.5, color='black', alpha=0.7, linestyle=\"dotted\")\n",
        "\n",
        "gr.top_labels = False\n",
        "gr.right_labels = False\n",
        "gr.rotate_labels = False\n",
        "gr.ylabel_style = {'size': 5, 'color': 'black'}\n",
        "gr.xlabel_style = {'size': 5, 'color': 'black'}\n",
        "# you will have to put your path to unpacked ne_10m_admin_0_countries.shp from the corresponding .zip archive\n",
        "shape_feature = ShapelyFeature(Reader('/content/drive/MyDrive/ERCA_peeproject/ne_10m_admin_0_countries/ne_10m_admin_0_countries.shp').geometries(),\n",
        "                                    ccrs.PlateCarree(), facecolor='none')\n",
        "ax.add_feature(shape_feature, linewidth=0.2, edgecolor='k', alpha = 1)"
      ],
      "metadata": {
        "id": "RHvTzHJ0Bbkd"
      },
      "execution_count": null,
      "outputs": []
    },
    {
      "cell_type": "code",
      "source": [],
      "metadata": {
        "id": "_k7UEZHNCVcX"
      },
      "execution_count": null,
      "outputs": []
    }
  ]
}