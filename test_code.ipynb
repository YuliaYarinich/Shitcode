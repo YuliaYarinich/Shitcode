{
  "nbformat": 4,
  "nbformat_minor": 0,
  "metadata": {
    "colab": {
      "provenance": [],
      "toc_visible": true,
      "authorship_tag": "ABX9TyMJW73Lb3XlOf3UVmdUcrtg",
      "include_colab_link": true
    },
    "kernelspec": {
      "name": "python3",
      "display_name": "Python 3"
    },
    "language_info": {
      "name": "python"
    }
  },
  "cells": [
    {
      "cell_type": "markdown",
      "metadata": {
        "id": "view-in-github",
        "colab_type": "text"
      },
      "source": [
        "<a href=\"https://colab.research.google.com/github/YuliaYarinich/Shitcode/blob/main/test_code.ipynb\" target=\"_parent\"><img src=\"https://colab.research.google.com/assets/colab-badge.svg\" alt=\"Open In Colab\"/></a>"
      ]
    },
    {
      "cell_type": "markdown",
      "source": [
        "Import and analyse bean and pea production data"
      ],
      "metadata": {
        "id": "1cfwB9ZTO8IV"
      }
    },
    {
      "cell_type": "markdown",
      "source": [],
      "metadata": {
        "id": "qBUWjLEHPClQ"
      }
    },
    {
      "cell_type": "code",
      "execution_count": 3,
      "metadata": {
        "id": "ITvudTVoOrWb"
      },
      "outputs": [],
      "source": [
        "import numpy as np\n",
        "import pandas as pd\n",
        "import xarray as xr\n",
        "import matplotlib.pyplot as plt\n",
        "from matplotlib.colors import LinearSegmentedColormap\n",
        "import matplotlib.colors as colors"
      ]
    },
    {
      "cell_type": "markdown",
      "source": [
        "Cartopy may not be installed already\n",
        "To install uncommment the !pip\n",
        "If the same problem exists for any other library you can install it with the same command"
      ],
      "metadata": {
        "id": "LSBUXs6rQlNy"
      }
    },
    {
      "cell_type": "code",
      "source": [
        "!pip install cartopy\n",
        "from cartopy.io.shapereader import Reader\n",
        "from cartopy.feature import ShapelyFeature\n",
        "import cartopy.crs as cсrs\n",
        "import cartopy.feature as cfeature"
      ],
      "metadata": {
        "id": "ObQK-aeUQQzS"
      },
      "execution_count": null,
      "outputs": []
    },
    {
      "cell_type": "code",
      "source": [],
      "metadata": {
        "id": "U4Mbzf6NRaoB"
      },
      "execution_count": null,
      "outputs": []
    }
  ]
}